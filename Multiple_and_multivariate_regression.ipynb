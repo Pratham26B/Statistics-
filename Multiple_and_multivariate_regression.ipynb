{
  "nbformat": 4,
  "nbformat_minor": 0,
  "metadata": {
    "colab": {
      "provenance": []
    },
    "kernelspec": {
      "name": "python3",
      "display_name": "Python 3"
    },
    "language_info": {
      "name": "python"
    }
  },
  "cells": [
    {
      "cell_type": "code",
      "execution_count": 1,
      "metadata": {
        "id": "6KyC2zQ2eVRO",
        "colab": {
          "base_uri": "https://localhost:8080/"
        },
        "outputId": "6ac4a8d3-a913-42f5-98a8-26b4bc08af46"
      },
      "outputs": [
        {
          "output_type": "stream",
          "name": "stdout",
          "text": [
            "Coefficients: [-0.09543703 -0.02673551  0.44483159  0.41023025]\n",
            "Intercept: 0.9916666666666669\n",
            "R-squared score: 0.9468960016420045\n"
          ]
        }
      ],
      "source": [
        "from sklearn.linear_model import LinearRegression\n",
        "from sklearn.datasets import load_iris\n",
        "from sklearn.preprocessing import StandardScaler\n",
        "from sklearn.model_selection import train_test_split\n",
        "\n",
        "# load the iris dataset\n",
        "iris = load_iris()\n",
        "X = iris.data  # use all four features\n",
        "y = iris.target\n",
        "\n",
        "# split the data into training and testing sets\n",
        "X_train, X_test, y_train, y_test = train_test_split(X, y, test_size=0.2, random_state=42)\n",
        "\n",
        "# standardize the features\n",
        "scaler = StandardScaler()\n",
        "X_train = scaler.fit_transform(X_train)\n",
        "X_test = scaler.transform(X_test)\n",
        "\n",
        "# create a linear regression model\n",
        "model = LinearRegression()\n",
        "\n",
        "# fit the model to the data\n",
        "model.fit(X_train, y_train)\n",
        "\n",
        "# evaluate the model on the testing set\n",
        "score = model.score(X_test, y_test)\n",
        "\n",
        "# print the coefficients and intercept of the model, and the R-squared score\n",
        "print('Coefficients:', model.coef_)\n",
        "print('Intercept:', model.intercept_)\n",
        "print('R-squared score:', score)\n"
      ]
    },
    {
      "cell_type": "code",
      "source": [
        "from sklearn.datasets import load_iris\n",
        "from sklearn.model_selection import train_test_split\n",
        "from sklearn.linear_model import LinearRegression, Ridge, Lasso\n",
        "from sklearn.metrics import mean_absolute_error, r2_score\n",
        "\n",
        "# load the iris dataset\n",
        "iris = load_iris()\n",
        "X = iris.data\n",
        "y = iris.target\n",
        "\n",
        "# split the data into training and testing sets\n",
        "X_train, X_test, y_train, y_test = train_test_split(X, y, test_size=0.2, random_state=42)\n",
        "\n",
        "# create a list of regression models to test\n",
        "models = [LinearRegression(), Ridge(), Lasso()]\n",
        "\n",
        "# loop through each model and fit it to the training data\n",
        "for model in models:\n",
        "    model.fit(X_train, y_train)\n",
        "    \n",
        "    # make predictions on the testing set\n",
        "    y_pred = model.predict(X_test)\n",
        "    \n",
        "    # calculate and print the MAE and R-squared score for the model\n",
        "    mae = mean_absolute_error(y_test, y_pred)\n",
        "    r2 = r2_score(y_test, y_pred)\n",
        "    print(type(model).__name__)\n",
        "    print('Mean absolute error:', mae)\n",
        "    print('R-squared score:', r2)\n",
        "    print()\n"
      ],
      "metadata": {
        "colab": {
          "base_uri": "https://localhost:8080/"
        },
        "id": "47w6XQujfDe-",
        "outputId": "81b48048-c9c2-4694-ddc3-24c3cad669d5"
      },
      "execution_count": 2,
      "outputs": [
        {
          "output_type": "stream",
          "name": "stdout",
          "text": [
            "LinearRegression\n",
            "Mean absolute error: 0.14637694965308523\n",
            "R-squared score: 0.9468960016420045\n",
            "\n",
            "Ridge\n",
            "Mean absolute error: 0.1501118013846544\n",
            "R-squared score: 0.9440579987200235\n",
            "\n",
            "Lasso\n",
            "Mean absolute error: 0.5573916938199889\n",
            "R-squared score: 0.40397020062894695\n",
            "\n"
          ]
        }
      ]
    },
    {
      "cell_type": "code",
      "source": [],
      "metadata": {
        "id": "gs8tnw1pfgQS"
      },
      "execution_count": null,
      "outputs": []
    }
  ]
}