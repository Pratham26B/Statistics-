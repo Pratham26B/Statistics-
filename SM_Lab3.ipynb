{
  "nbformat": 4,
  "nbformat_minor": 0,
  "metadata": {
    "colab": {
      "provenance": []
    },
    "kernelspec": {
      "name": "python3",
      "display_name": "Python 3"
    },
    "language_info": {
      "name": "python"
    }
  },
  "cells": [
    {
      "cell_type": "code",
      "execution_count": null,
      "metadata": {
        "colab": {
          "base_uri": "https://localhost:8080/",
          "height": 252
        },
        "id": "nsj88lB0sr0R",
        "outputId": "73d5e25a-5ba4-4ec7-e44c-ec4a97807426"
      },
      "outputs": [
        {
          "output_type": "stream",
          "name": "stdout",
          "text": [
            "9.0\n"
          ]
        },
        {
          "output_type": "error",
          "ename": "NameError",
          "evalue": "ignored",
          "traceback": [
            "\u001b[0;31m---------------------------------------------------------------------------\u001b[0m",
            "\u001b[0;31mNameError\u001b[0m                                 Traceback (most recent call last)",
            "\u001b[0;32m<ipython-input-30-b2a78af94e51>\u001b[0m in \u001b[0;36m<module>\u001b[0;34m\u001b[0m\n\u001b[1;32m     10\u001b[0m \u001b[0me\u001b[0m\u001b[0;34m=\u001b[0m\u001b[0;36m0\u001b[0m\u001b[0;34m\u001b[0m\u001b[0;34m\u001b[0m\u001b[0m\n\u001b[1;32m     11\u001b[0m \u001b[0mSampleMean\u001b[0m\u001b[0;34m(\u001b[0m\u001b[0ma\u001b[0m\u001b[0;34m)\u001b[0m\u001b[0;34m\u001b[0m\u001b[0;34m\u001b[0m\u001b[0m\n\u001b[0;32m---> 12\u001b[0;31m \u001b[0mprint\u001b[0m\u001b[0;34m(\u001b[0m\u001b[0mm\u001b[0m\u001b[0;34m)\u001b[0m\u001b[0;34m\u001b[0m\u001b[0;34m\u001b[0m\u001b[0m\n\u001b[0m\u001b[1;32m     13\u001b[0m \u001b[0;32mdef\u001b[0m \u001b[0mvar\u001b[0m\u001b[0;34m(\u001b[0m\u001b[0me\u001b[0m\u001b[0;34m)\u001b[0m\u001b[0;34m:\u001b[0m\u001b[0;34m\u001b[0m\u001b[0;34m\u001b[0m\u001b[0m\n\u001b[1;32m     14\u001b[0m    \u001b[0;32mfor\u001b[0m \u001b[0mp\u001b[0m \u001b[0;32min\u001b[0m \u001b[0mx\u001b[0m\u001b[0;34m:\u001b[0m\u001b[0;34m\u001b[0m\u001b[0;34m\u001b[0m\u001b[0m\n",
            "\u001b[0;31mNameError\u001b[0m: name 'm' is not defined"
          ]
        }
      ],
      "source": [
        "def SampleMean(a):\n",
        "  for i in x:\n",
        "    a=a+i\n",
        "  m=a/l\n",
        "  print(m)\n",
        "\n",
        "x=[6,7,10,12,13,4,8,12]\n",
        "l=len(x)\n",
        "a=0\n",
        "e=0\n",
        "SampleMean(a)\n",
        "def var(e):\n",
        "   for p in x:\n",
        "     t=p-m\n",
        "     e=e+t^2\n",
        "   n=e/l\n",
        "   print(n)\n",
        "var(e)\n"
      ]
    },
    {
      "cell_type": "code",
      "source": [
        "def SampleMean(a):\n",
        "  for i in x:\n",
        "    a=a+i\n",
        "  m=a/l\n",
        "  print(m)\n",
        "\n",
        "x=[]\n",
        "for j in range(0,10):\n",
        "  q=j*3\n",
        "  x.append(q)\n",
        "l=len(x)\n",
        "a=0\n",
        "SampleMean(a)\n",
        "\n"
      ],
      "metadata": {
        "colab": {
          "base_uri": "https://localhost:8080/"
        },
        "id": "JV8A6Cc_-TN8",
        "outputId": "d7997fb3-15c1-45e5-fc6a-666d6385fa49"
      },
      "execution_count": null,
      "outputs": [
        {
          "output_type": "stream",
          "name": "stdout",
          "text": [
            "13.5\n"
          ]
        }
      ]
    },
    {
      "cell_type": "code",
      "source": [
        "def SampleMean(a):\n",
        "  for i in x:\n",
        "    a=a+i\n",
        "  m=a/l\n",
        "  print(m)\n",
        "\n",
        "x=[4,7,8,9,10,12,13,17]\n",
        "l=len(x)\n",
        "a=0\n",
        "SampleMean(a)\n",
        "\n"
      ],
      "metadata": {
        "colab": {
          "base_uri": "https://localhost:8080/"
        },
        "id": "Nh3sHPnw7Bdl",
        "outputId": "ddd32ab5-b279-4039-b78a-fc5d33615eb6"
      },
      "execution_count": null,
      "outputs": [
        {
          "output_type": "stream",
          "name": "stdout",
          "text": [
            "10.0\n"
          ]
        }
      ]
    },
    {
      "cell_type": "code",
      "source": [
        "def SampleMean(a):\n",
        "  for i in x:\n",
        "    a=a+i\n",
        "  m=a/l\n",
        "  print(m)\n",
        "\n",
        "x=[38,70,48,40,42,55,63,46,54,44]\n",
        "l=len(x)\n",
        "a=0\n",
        "SampleMean(a)\n",
        "\n"
      ],
      "metadata": {
        "colab": {
          "base_uri": "https://localhost:8080/"
        },
        "id": "zizV9FY_8aCW",
        "outputId": "bf56eec0-b1b3-49a2-9e52-476d13381451"
      },
      "execution_count": null,
      "outputs": [
        {
          "output_type": "stream",
          "name": "stdout",
          "text": [
            "50.0\n"
          ]
        }
      ]
    }
  ]
}