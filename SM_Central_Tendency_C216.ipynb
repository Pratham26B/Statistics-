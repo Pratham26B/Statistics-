{
  "nbformat": 4,
  "nbformat_minor": 0,
  "metadata": {
    "colab": {
      "provenance": []
    },
    "kernelspec": {
      "name": "python3",
      "display_name": "Python 3"
    },
    "language_info": {
      "name": "python"
    }
  },
  "cells": [
    {
      "cell_type": "code",
      "execution_count": null,
      "metadata": {
        "id": "bW6JmAd593nV"
      },
      "outputs": [],
      "source": [
        "import numpy as np \n",
        "import pandas as pd \n",
        "import matplotlib.pyplot as plt \n",
        "import seaborn as sns"
      ]
    },
    {
      "cell_type": "code",
      "source": [
        "wine_data = pd.read_csv(\"winemag-data-130k-v2.csv\")"
      ],
      "metadata": {
        "id": "vTQBV8M5_b2i"
      },
      "execution_count": null,
      "outputs": []
    },
    {
      "cell_type": "code",
      "source": [
        "import scipy.stats as stats \n",
        "\n",
        "x = np.array([2, 5, 3, 8, 6, 3, 4, 1, 9, 4, 3])\n",
        "# find the mean\n",
        "sum_x = x.sum()\n",
        "length_x = len(x)\n",
        "print(\"sum: \", sum_x)\n",
        "print(\"count: \", length_x)\n",
        "print(\"mean: \", sum_x/length_x)\n",
        "print(\"mean: \", x.mean())\n",
        "\n",
        "idx_middle = length_x//2\n",
        "x_sorted = np.sort(x)\n",
        "print(\"sorted x: \", x_sorted)\n",
        "print(\"index of middle: \", idx_middle)\n",
        "print(\"median: \", x_sorted[idx_middle])\n",
        "print(\"median: \", np.median(x).astype(int))\n",
        "\n",
        "from collections import Counter\n",
        "x_counts = Counter(x)\n",
        "print(\"mode: \", x_counts.most_common(1)[0][0])\n",
        "print(\"mode: \", stats.mode(x).mode[0])"
      ],
      "metadata": {
        "colab": {
          "base_uri": "https://localhost:8080/"
        },
        "id": "WQcY29N6BcDp",
        "outputId": "5972a59b-86ec-4acf-8648-64efc71f08a6"
      },
      "execution_count": null,
      "outputs": [
        {
          "output_type": "stream",
          "name": "stdout",
          "text": [
            "sum:  48\n",
            "count:  11\n",
            "mean:  4.363636363636363\n",
            "mean:  4.363636363636363\n",
            "sorted x:  [1 2 3 3 3 4 4 5 6 8 9]\n",
            "index of middle:  5\n",
            "median:  4\n",
            "median:  4\n",
            "mode:  3\n",
            "mode:  3\n"
          ]
        }
      ]
    },
    {
      "cell_type": "code",
      "source": [
        "prices = wine_data.loc[wine_data.index[wine_data['price']>0], \"price\"]\n",
        "scores = wine_data[\"points\"]\n",
        "print(\"price data stats:\")\n",
        "print(\"mean: \", prices.mean())\n",
        "print(\"median: \", prices.median())\n",
        "print(\"mode: \", prices.mode())\n",
        "print(\"point score data stats:\")\n",
        "print(\"mean: \", scores.mean())\n",
        "print(\"median: \", scores.median())\n",
        "print(\"mode: \", scores.mode())"
      ],
      "metadata": {
        "colab": {
          "base_uri": "https://localhost:8080/"
        },
        "id": "ON4v8satBcAQ",
        "outputId": "38d55b10-c77d-4425-85bf-f80f7a19689f"
      },
      "execution_count": null,
      "outputs": [
        {
          "output_type": "stream",
          "name": "stdout",
          "text": [
            "price data stats:\n",
            "mean:  34.87544825285631\n",
            "median:  25.0\n",
            "mode:  0    20.0\n",
            "dtype: float64\n",
            "point score data stats:\n",
            "mean:  88.38358918835311\n",
            "median:  88.0\n",
            "mode:  0    87\n",
            "dtype: int64\n"
          ]
        }
      ]
    },
    {
      "cell_type": "code",
      "source": [
        "print(\"variance of point scores: \", scores.var(ddof=0)) \n",
        "print(\"standard deviation of point scores: \", scores.std(ddof=0))\n",
        "print(\"variance of prices: \", prices.var(ddof=0)) \n",
        "print(\"standard deviation of prices: \", prices.std(ddof=0))"
      ],
      "metadata": {
        "colab": {
          "base_uri": "https://localhost:8080/"
        },
        "id": "oDnjgfy5Bb8y",
        "outputId": "a7e6e424-9da9-4b90-b393-ddeabf98d36c"
      },
      "execution_count": null,
      "outputs": [
        {
          "output_type": "stream",
          "name": "stdout",
          "text": [
            "variance of point scores:  8.96666003834102\n",
            "standard deviation of point scores:  2.994438184090802\n",
            "variance of prices:  1687.9285699245806\n",
            "standard deviation of prices:  41.08440786873508\n"
          ]
        }
      ]
    },
    {
      "cell_type": "code",
      "source": [
        "z = (21-18)/1.5 \n",
        "print(z)\n"
      ],
      "metadata": {
        "colab": {
          "base_uri": "https://localhost:8080/"
        },
        "id": "J1TVkreZBb5A",
        "outputId": "abc532ee-c64b-46f6-ef98-10f90bd12f88"
      },
      "execution_count": null,
      "outputs": [
        {
          "output_type": "stream",
          "name": "stdout",
          "text": [
            "2.0\n"
          ]
        }
      ]
    },
    {
      "cell_type": "code",
      "source": [
        "x = np.array([21,19,17,20,18,19])\n",
        "x_bar = x.mean()\n",
        "N = len(x)\n",
        "SE = 1.5/np.sqrt(N)\n",
        "print(\"SE = \", SE)\n",
        "print(\"x_bar = \", x_bar, \" +/- \", SE)"
      ],
      "metadata": {
        "colab": {
          "base_uri": "https://localhost:8080/"
        },
        "id": "0MyjObj1Bbvi",
        "outputId": "ef12aefb-4e8c-4098-c3ca-ff38791f5b7e"
      },
      "execution_count": null,
      "outputs": [
        {
          "output_type": "stream",
          "name": "stdout",
          "text": [
            "SE =  0.6123724356957946\n",
            "x_bar =  19.0  +/-  0.6123724356957946\n"
          ]
        }
      ]
    },
    {
      "cell_type": "code",
      "source": [
        "x_bar_low = x_bar - 1.96*SE\n",
        "x_bar_high = x_bar + 1.96*SE\n",
        "print(\"x_bar = \", x_bar, \", 95% CI [\", x_bar_low, \", \", x_bar_high, \"]\")"
      ],
      "metadata": {
        "colab": {
          "base_uri": "https://localhost:8080/"
        },
        "id": "32t3DAmeDS9O",
        "outputId": "10b6ce96-bc75-48b6-ca8f-e599d484a3a5"
      },
      "execution_count": null,
      "outputs": [
        {
          "output_type": "stream",
          "name": "stdout",
          "text": [
            "x_bar =  19.0 , 95% CI [ 17.799750026036243 ,  20.200249973963757 ]\n"
          ]
        }
      ]
    }
  ]
}